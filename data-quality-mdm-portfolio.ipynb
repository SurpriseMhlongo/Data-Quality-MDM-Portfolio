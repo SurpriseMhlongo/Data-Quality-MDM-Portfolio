{
 "cells": [
  {
   "cell_type": "markdown",
   "id": "b8ca4d96",
   "metadata": {
    "papermill": {
     "duration": 0.003623,
     "end_time": "2025-07-28T05:38:06.393473",
     "exception": false,
     "start_time": "2025-07-28T05:38:06.389850",
     "status": "completed"
    },
    "tags": []
   },
   "source": [
    "# Algerian Forest Fires; Data Quality Assessment & Analytics. \n",
    "\n",
    "### By Surprise Mhlongo - 26/07/2025\n",
    "##### This pipeline, cleans, validates and test the quality of a datasource for ML prediction"
   ]
  },
  {
   "cell_type": "markdown",
   "id": "e45ce339",
   "metadata": {
    "papermill": {
     "duration": 0.002474,
     "end_time": "2025-07-28T05:38:06.399383",
     "exception": false,
     "start_time": "2025-07-28T05:38:06.396909",
     "status": "completed"
    },
    "tags": []
   },
   "source": [
    "# RULES DOCUMENTATION\n",
    "## Data Quality Rules\n",
    "\n",
    "| Rule ID | Field       | Rule                          | Action                   |\n",
    "|---------|-------------|-------------------------------|--------------------------|\n",
    "| C-01    | Temperature | No NULL values                | Impute with median       |\n",
    "| V-01    | RH          | Must be 0-100%                | Cap at boundaries        |\n",
    "| U-01    | FireID      | Unique `FIRE:YYYY-MM-DD-###`  | Drop duplicates          |\n",
    "| B-01    | FWI         | Must be ≥ ISI                 | Recalculate              |"
   ]
  },
  {
   "cell_type": "markdown",
   "id": "12a8d784",
   "metadata": {
    "papermill": {
     "duration": 0.002405,
     "end_time": "2025-07-28T05:38:06.404565",
     "exception": false,
     "start_time": "2025-07-28T05:38:06.402160",
     "status": "completed"
    },
    "tags": []
   },
   "source": [
    "## Import Libraries and Load data"
   ]
  },
  {
   "cell_type": "code",
   "execution_count": 1,
   "id": "b68b9ceb",
   "metadata": {
    "execution": {
     "iopub.execute_input": "2025-07-28T05:38:06.411799Z",
     "iopub.status.busy": "2025-07-28T05:38:06.411367Z",
     "iopub.status.idle": "2025-07-28T05:38:19.283712Z",
     "shell.execute_reply": "2025-07-28T05:38:19.282272Z"
    },
    "papermill": {
     "duration": 12.878097,
     "end_time": "2025-07-28T05:38:19.285401",
     "exception": false,
     "start_time": "2025-07-28T05:38:06.407304",
     "status": "completed"
    },
    "tags": []
   },
   "outputs": [
    {
     "name": "stdout",
     "output_type": "stream",
     "text": [
      "Requirement already satisfied: folium in /usr/local/lib/python3.11/dist-packages (0.19.7)\r\n",
      "Requirement already satisfied: branca>=0.6.0 in /usr/local/lib/python3.11/dist-packages (from folium) (0.8.1)\r\n",
      "Requirement already satisfied: jinja2>=2.9 in /usr/local/lib/python3.11/dist-packages (from folium) (3.1.6)\r\n",
      "Requirement already satisfied: numpy in /usr/local/lib/python3.11/dist-packages (from folium) (1.26.4)\r\n",
      "Requirement already satisfied: requests in /usr/local/lib/python3.11/dist-packages (from folium) (2.32.4)\r\n",
      "Requirement already satisfied: xyzservices in /usr/local/lib/python3.11/dist-packages (from folium) (2025.4.0)\r\n",
      "Requirement already satisfied: MarkupSafe>=2.0 in /usr/local/lib/python3.11/dist-packages (from jinja2>=2.9->folium) (3.0.2)\r\n",
      "Requirement already satisfied: mkl_fft in /usr/local/lib/python3.11/dist-packages (from numpy->folium) (1.3.8)\r\n",
      "Requirement already satisfied: mkl_random in /usr/local/lib/python3.11/dist-packages (from numpy->folium) (1.2.4)\r\n",
      "Requirement already satisfied: mkl_umath in /usr/local/lib/python3.11/dist-packages (from numpy->folium) (0.1.1)\r\n",
      "Requirement already satisfied: mkl in /usr/local/lib/python3.11/dist-packages (from numpy->folium) (2025.2.0)\r\n",
      "Requirement already satisfied: tbb4py in /usr/local/lib/python3.11/dist-packages (from numpy->folium) (2022.2.0)\r\n",
      "Requirement already satisfied: mkl-service in /usr/local/lib/python3.11/dist-packages (from numpy->folium) (2.4.1)\r\n",
      "Requirement already satisfied: charset_normalizer<4,>=2 in /usr/local/lib/python3.11/dist-packages (from requests->folium) (3.4.2)\r\n",
      "Requirement already satisfied: idna<4,>=2.5 in /usr/local/lib/python3.11/dist-packages (from requests->folium) (3.10)\r\n",
      "Requirement already satisfied: urllib3<3,>=1.21.1 in /usr/local/lib/python3.11/dist-packages (from requests->folium) (2.5.0)\r\n",
      "Requirement already satisfied: certifi>=2017.4.17 in /usr/local/lib/python3.11/dist-packages (from requests->folium) (2025.6.15)\r\n",
      "Requirement already satisfied: intel-openmp<2026,>=2024 in /usr/local/lib/python3.11/dist-packages (from mkl->numpy->folium) (2024.2.0)\r\n",
      "Requirement already satisfied: tbb==2022.* in /usr/local/lib/python3.11/dist-packages (from mkl->numpy->folium) (2022.2.0)\r\n",
      "Requirement already satisfied: tcmlib==1.* in /usr/local/lib/python3.11/dist-packages (from tbb==2022.*->mkl->numpy->folium) (1.4.0)\r\n",
      "Requirement already satisfied: intel-cmplr-lib-rt in /usr/local/lib/python3.11/dist-packages (from mkl_umath->numpy->folium) (2024.2.0)\r\n",
      "Requirement already satisfied: intel-cmplr-lib-ur==2024.2.0 in /usr/local/lib/python3.11/dist-packages (from intel-openmp<2026,>=2024->mkl->numpy->folium) (2024.2.0)\r\n"
     ]
    },
    {
     "data": {
      "text/markdown": [
       "\n",
       "## Glossary of table abbreviations:\n",
       "\n",
       "| Abbreviation | Full Name | Description | Typical Range |\n",
       "|--------------|-----------|-------------|---------------|\n",
       "| **RH** | Relative Humidity | Moisture in air (%) | 0-100 |\n",
       "| **Ws** | Wind Speed | Wind velocity (km/h) | 0-100+ |\n",
       "| **FFMC** | Fine Fuel Moisture Code | Surface litter dryness | 0-101 |\n",
       "| **DMC** | Duff Moisture Code | Shallow organic layer dryness | 0-300+ |\n",
       "| **DC** | Drought Code | Deep organic layer dryness | 0-1000+ |\n",
       "| **ISI** | Initial Spread Index | Fire spread potential | 0-56+ |\n",
       "| **BUI** | Build-Up Index | Fuel availability | 0-200+ |\n",
       "| **FWI** | Fire Weather Index | Overall fire danger | 0-100+ |\n"
      ],
      "text/plain": [
       "<IPython.core.display.Markdown object>"
      ]
     },
     "metadata": {},
     "output_type": "display_data"
    },
    {
     "data": {
      "text/markdown": [
       "#### Head Preview:"
      ],
      "text/plain": [
       "<IPython.core.display.Markdown object>"
      ]
     },
     "metadata": {},
     "output_type": "display_data"
    },
    {
     "name": "stderr",
     "output_type": "stream",
     "text": [
      "/usr/local/lib/python3.11/dist-packages/pandas/io/formats/format.py:1458: RuntimeWarning: invalid value encountered in greater\n",
      "  has_large_values = (abs_vals > 1e6).any()\n",
      "/usr/local/lib/python3.11/dist-packages/pandas/io/formats/format.py:1459: RuntimeWarning: invalid value encountered in less\n",
      "  has_small_values = ((abs_vals < 10 ** (-self.digits)) & (abs_vals > 0)).any()\n",
      "/usr/local/lib/python3.11/dist-packages/pandas/io/formats/format.py:1459: RuntimeWarning: invalid value encountered in greater\n",
      "  has_small_values = ((abs_vals < 10 ** (-self.digits)) & (abs_vals > 0)).any()\n"
     ]
    },
    {
     "data": {
      "text/html": [
       "<div>\n",
       "<style scoped>\n",
       "    .dataframe tbody tr th:only-of-type {\n",
       "        vertical-align: middle;\n",
       "    }\n",
       "\n",
       "    .dataframe tbody tr th {\n",
       "        vertical-align: top;\n",
       "    }\n",
       "\n",
       "    .dataframe thead th {\n",
       "        text-align: right;\n",
       "    }\n",
       "</style>\n",
       "<table border=\"1\" class=\"dataframe\">\n",
       "  <thead>\n",
       "    <tr style=\"text-align: right;\">\n",
       "      <th></th>\n",
       "      <th>Temperature</th>\n",
       "      <th>RH</th>\n",
       "      <th>Ws</th>\n",
       "      <th>Rain</th>\n",
       "      <th>FFMC</th>\n",
       "      <th>DMC</th>\n",
       "      <th>DC</th>\n",
       "      <th>ISI</th>\n",
       "      <th>BUI</th>\n",
       "      <th>FWI</th>\n",
       "      <th>Classes</th>\n",
       "      <th>FireID</th>\n",
       "      <th>FireDate</th>\n",
       "    </tr>\n",
       "  </thead>\n",
       "  <tbody>\n",
       "    <tr>\n",
       "      <th>0</th>\n",
       "      <td>29.0</td>\n",
       "      <td>57.0</td>\n",
       "      <td>18.0</td>\n",
       "      <td>0.0</td>\n",
       "      <td>65.7</td>\n",
       "      <td>3.4</td>\n",
       "      <td>7.6</td>\n",
       "      <td>1.3</td>\n",
       "      <td>3.4</td>\n",
       "      <td>0.5</td>\n",
       "      <td>not fire</td>\n",
       "      <td>FIRE-2012-06-01-001</td>\n",
       "      <td>01/06/2012</td>\n",
       "    </tr>\n",
       "    <tr>\n",
       "      <th>1</th>\n",
       "      <td>NaN</td>\n",
       "      <td>61.0</td>\n",
       "      <td>13.0</td>\n",
       "      <td>1.3</td>\n",
       "      <td>64.4</td>\n",
       "      <td>4.1</td>\n",
       "      <td>7.6</td>\n",
       "      <td>1.0</td>\n",
       "      <td>3.9</td>\n",
       "      <td>0.4</td>\n",
       "      <td>not fire</td>\n",
       "      <td>FIRE-2012-06-02-001</td>\n",
       "      <td>02/06/2012</td>\n",
       "    </tr>\n",
       "    <tr>\n",
       "      <th>2</th>\n",
       "      <td>26.0</td>\n",
       "      <td>NaN</td>\n",
       "      <td>NaN</td>\n",
       "      <td>13.1</td>\n",
       "      <td>47.1</td>\n",
       "      <td>2.5</td>\n",
       "      <td>7.1</td>\n",
       "      <td>0.3</td>\n",
       "      <td>2.7</td>\n",
       "      <td>0.1</td>\n",
       "      <td>not fire</td>\n",
       "      <td>FIRE-2012-06-03-001</td>\n",
       "      <td>03/06/2012</td>\n",
       "    </tr>\n",
       "    <tr>\n",
       "      <th>3</th>\n",
       "      <td>25.0</td>\n",
       "      <td>89.0</td>\n",
       "      <td>13.0</td>\n",
       "      <td>2.5</td>\n",
       "      <td>28.6</td>\n",
       "      <td>1.3</td>\n",
       "      <td>6.9</td>\n",
       "      <td>0.0</td>\n",
       "      <td>1.7</td>\n",
       "      <td>0.0</td>\n",
       "      <td>not fire</td>\n",
       "      <td>FIRE-2012-06-04-001</td>\n",
       "      <td>04/06/2012</td>\n",
       "    </tr>\n",
       "    <tr>\n",
       "      <th>4</th>\n",
       "      <td>NaN</td>\n",
       "      <td>77.0</td>\n",
       "      <td>16.0</td>\n",
       "      <td>0.0</td>\n",
       "      <td>64.8</td>\n",
       "      <td>3.0</td>\n",
       "      <td>14.2</td>\n",
       "      <td>1.2</td>\n",
       "      <td>3.9</td>\n",
       "      <td>0.5</td>\n",
       "      <td>not fire</td>\n",
       "      <td>FIRE-2012-06-05-001</td>\n",
       "      <td>05/06/2012</td>\n",
       "    </tr>\n",
       "    <tr>\n",
       "      <th>5</th>\n",
       "      <td>25.0</td>\n",
       "      <td>67.0</td>\n",
       "      <td>14.0</td>\n",
       "      <td>0.0</td>\n",
       "      <td>82.6</td>\n",
       "      <td>5.8</td>\n",
       "      <td>22.2</td>\n",
       "      <td>3.1</td>\n",
       "      <td>7.0</td>\n",
       "      <td>2.5</td>\n",
       "      <td>fire</td>\n",
       "      <td>FIRE-2012-06-06-001</td>\n",
       "      <td>06/06/2012</td>\n",
       "    </tr>\n",
       "    <tr>\n",
       "      <th>6</th>\n",
       "      <td>33.0</td>\n",
       "      <td>150.0</td>\n",
       "      <td>13.0</td>\n",
       "      <td>0.0</td>\n",
       "      <td>88.2</td>\n",
       "      <td>9.9</td>\n",
       "      <td>30.5</td>\n",
       "      <td>6.4</td>\n",
       "      <td>10.9</td>\n",
       "      <td>7.2</td>\n",
       "      <td>fire</td>\n",
       "      <td>FIRE-2012-06-07-001</td>\n",
       "      <td>07/06/2012</td>\n",
       "    </tr>\n",
       "    <tr>\n",
       "      <th>7</th>\n",
       "      <td>NaN</td>\n",
       "      <td>73.0</td>\n",
       "      <td>15.0</td>\n",
       "      <td>0.0</td>\n",
       "      <td>86.6</td>\n",
       "      <td>12.1</td>\n",
       "      <td>38.3</td>\n",
       "      <td>5.6</td>\n",
       "      <td>13.5</td>\n",
       "      <td>7.1</td>\n",
       "      <td>fire</td>\n",
       "      <td>FIRE-2012-06-08-001</td>\n",
       "      <td>08/06/2012</td>\n",
       "    </tr>\n",
       "    <tr>\n",
       "      <th>8</th>\n",
       "      <td>25.0</td>\n",
       "      <td>NaN</td>\n",
       "      <td>NaN</td>\n",
       "      <td>0.2</td>\n",
       "      <td>52.9</td>\n",
       "      <td>7.9</td>\n",
       "      <td>38.8</td>\n",
       "      <td>0.4</td>\n",
       "      <td>10.5</td>\n",
       "      <td>0.3</td>\n",
       "      <td>not fire</td>\n",
       "      <td>FIRE-2012-06-09-001</td>\n",
       "      <td>09/06/2012</td>\n",
       "    </tr>\n",
       "    <tr>\n",
       "      <th>9</th>\n",
       "      <td>28.0</td>\n",
       "      <td>79.0</td>\n",
       "      <td>12.0</td>\n",
       "      <td>0.0</td>\n",
       "      <td>73.2</td>\n",
       "      <td>9.5</td>\n",
       "      <td>46.3</td>\n",
       "      <td>1.3</td>\n",
       "      <td>12.6</td>\n",
       "      <td>0.9</td>\n",
       "      <td>not fire</td>\n",
       "      <td>FIRE-2012-06-10-001</td>\n",
       "      <td>10/06/2012</td>\n",
       "    </tr>\n",
       "  </tbody>\n",
       "</table>\n",
       "</div>"
      ],
      "text/plain": [
       "   Temperature     RH    Ws  Rain  FFMC   DMC    DC  ISI   BUI  FWI  \\\n",
       "0         29.0   57.0  18.0   0.0  65.7   3.4   7.6  1.3   3.4  0.5   \n",
       "1          NaN   61.0  13.0   1.3  64.4   4.1   7.6  1.0   3.9  0.4   \n",
       "2         26.0    NaN   NaN  13.1  47.1   2.5   7.1  0.3   2.7  0.1   \n",
       "3         25.0   89.0  13.0   2.5  28.6   1.3   6.9  0.0   1.7  0.0   \n",
       "4          NaN   77.0  16.0   0.0  64.8   3.0  14.2  1.2   3.9  0.5   \n",
       "5         25.0   67.0  14.0   0.0  82.6   5.8  22.2  3.1   7.0  2.5   \n",
       "6         33.0  150.0  13.0   0.0  88.2   9.9  30.5  6.4  10.9  7.2   \n",
       "7          NaN   73.0  15.0   0.0  86.6  12.1  38.3  5.6  13.5  7.1   \n",
       "8         25.0    NaN   NaN   0.2  52.9   7.9  38.8  0.4  10.5  0.3   \n",
       "9         28.0   79.0  12.0   0.0  73.2   9.5  46.3  1.3  12.6  0.9   \n",
       "\n",
       "       Classes               FireID    FireDate  \n",
       "0  not fire     FIRE-2012-06-01-001  01/06/2012  \n",
       "1  not fire     FIRE-2012-06-02-001  02/06/2012  \n",
       "2  not fire     FIRE-2012-06-03-001  03/06/2012  \n",
       "3  not fire     FIRE-2012-06-04-001  04/06/2012  \n",
       "4  not fire     FIRE-2012-06-05-001  05/06/2012  \n",
       "5      fire     FIRE-2012-06-06-001  06/06/2012  \n",
       "6      fire     FIRE-2012-06-07-001  07/06/2012  \n",
       "7      fire     FIRE-2012-06-08-001  08/06/2012  \n",
       "8  not fire     FIRE-2012-06-09-001  09/06/2012  \n",
       "9  not fire     FIRE-2012-06-10-001  10/06/2012  "
      ]
     },
     "metadata": {},
     "output_type": "display_data"
    },
    {
     "data": {
      "text/markdown": [
       "#### Data Summary:"
      ],
      "text/plain": [
       "<IPython.core.display.Markdown object>"
      ]
     },
     "metadata": {},
     "output_type": "display_data"
    },
    {
     "data": {
      "text/html": [
       "<div>\n",
       "<style scoped>\n",
       "    .dataframe tbody tr th:only-of-type {\n",
       "        vertical-align: middle;\n",
       "    }\n",
       "\n",
       "    .dataframe tbody tr th {\n",
       "        vertical-align: top;\n",
       "    }\n",
       "\n",
       "    .dataframe thead th {\n",
       "        text-align: right;\n",
       "    }\n",
       "</style>\n",
       "<table border=\"1\" class=\"dataframe\">\n",
       "  <thead>\n",
       "    <tr style=\"text-align: right;\">\n",
       "      <th></th>\n",
       "      <th>Temperature</th>\n",
       "      <th>RH</th>\n",
       "      <th>Ws</th>\n",
       "      <th>Rain</th>\n",
       "      <th>FFMC</th>\n",
       "      <th>DMC</th>\n",
       "      <th>DC</th>\n",
       "      <th>ISI</th>\n",
       "      <th>BUI</th>\n",
       "      <th>FWI</th>\n",
       "    </tr>\n",
       "  </thead>\n",
       "  <tbody>\n",
       "    <tr>\n",
       "      <th>count</th>\n",
       "      <td>114.000000</td>\n",
       "      <td>118.000000</td>\n",
       "      <td>118.000000</td>\n",
       "      <td>126.000000</td>\n",
       "      <td>126.000000</td>\n",
       "      <td>126.000000</td>\n",
       "      <td>126.000000</td>\n",
       "      <td>126.000000</td>\n",
       "      <td>126.000000</td>\n",
       "      <td>126.000000</td>\n",
       "    </tr>\n",
       "    <tr>\n",
       "      <th>mean</th>\n",
       "      <td>31.122807</td>\n",
       "      <td>70.254237</td>\n",
       "      <td>16.016949</td>\n",
       "      <td>0.880952</td>\n",
       "      <td>74.289683</td>\n",
       "      <td>12.019048</td>\n",
       "      <td>51.742063</td>\n",
       "      <td>3.777778</td>\n",
       "      <td>15.038095</td>\n",
       "      <td>5.415873</td>\n",
       "    </tr>\n",
       "    <tr>\n",
       "      <th>std</th>\n",
       "      <td>3.477209</td>\n",
       "      <td>18.696033</td>\n",
       "      <td>2.816262</td>\n",
       "      <td>2.439663</td>\n",
       "      <td>15.597517</td>\n",
       "      <td>11.215359</td>\n",
       "      <td>51.547105</td>\n",
       "      <td>3.291635</td>\n",
       "      <td>14.403732</td>\n",
       "      <td>6.305254</td>\n",
       "    </tr>\n",
       "    <tr>\n",
       "      <th>min</th>\n",
       "      <td>22.000000</td>\n",
       "      <td>45.000000</td>\n",
       "      <td>11.000000</td>\n",
       "      <td>0.000000</td>\n",
       "      <td>28.600000</td>\n",
       "      <td>0.700000</td>\n",
       "      <td>6.900000</td>\n",
       "      <td>0.000000</td>\n",
       "      <td>1.100000</td>\n",
       "      <td>0.000000</td>\n",
       "    </tr>\n",
       "    <tr>\n",
       "      <th>25%</th>\n",
       "      <td>29.000000</td>\n",
       "      <td>59.250000</td>\n",
       "      <td>14.000000</td>\n",
       "      <td>0.000000</td>\n",
       "      <td>65.025000</td>\n",
       "      <td>3.400000</td>\n",
       "      <td>9.475000</td>\n",
       "      <td>1.125000</td>\n",
       "      <td>4.475000</td>\n",
       "      <td>0.500000</td>\n",
       "    </tr>\n",
       "    <tr>\n",
       "      <th>50%</th>\n",
       "      <td>31.000000</td>\n",
       "      <td>68.000000</td>\n",
       "      <td>16.000000</td>\n",
       "      <td>0.000000</td>\n",
       "      <td>80.150000</td>\n",
       "      <td>8.500000</td>\n",
       "      <td>32.650000</td>\n",
       "      <td>2.650000</td>\n",
       "      <td>10.700000</td>\n",
       "      <td>2.700000</td>\n",
       "    </tr>\n",
       "    <tr>\n",
       "      <th>75%</th>\n",
       "      <td>34.000000</td>\n",
       "      <td>78.000000</td>\n",
       "      <td>18.000000</td>\n",
       "      <td>0.575000</td>\n",
       "      <td>86.675000</td>\n",
       "      <td>15.900000</td>\n",
       "      <td>76.525000</td>\n",
       "      <td>5.675000</td>\n",
       "      <td>21.375000</td>\n",
       "      <td>8.375000</td>\n",
       "    </tr>\n",
       "    <tr>\n",
       "      <th>max</th>\n",
       "      <td>37.000000</td>\n",
       "      <td>150.000000</td>\n",
       "      <td>26.000000</td>\n",
       "      <td>16.800000</td>\n",
       "      <td>90.300000</td>\n",
       "      <td>54.200000</td>\n",
       "      <td>220.400000</td>\n",
       "      <td>17.100000</td>\n",
       "      <td>67.400000</td>\n",
       "      <td>30.200000</td>\n",
       "    </tr>\n",
       "  </tbody>\n",
       "</table>\n",
       "</div>"
      ],
      "text/plain": [
       "       Temperature          RH          Ws        Rain        FFMC  \\\n",
       "count   114.000000  118.000000  118.000000  126.000000  126.000000   \n",
       "mean     31.122807   70.254237   16.016949    0.880952   74.289683   \n",
       "std       3.477209   18.696033    2.816262    2.439663   15.597517   \n",
       "min      22.000000   45.000000   11.000000    0.000000   28.600000   \n",
       "25%      29.000000   59.250000   14.000000    0.000000   65.025000   \n",
       "50%      31.000000   68.000000   16.000000    0.000000   80.150000   \n",
       "75%      34.000000   78.000000   18.000000    0.575000   86.675000   \n",
       "max      37.000000  150.000000   26.000000   16.800000   90.300000   \n",
       "\n",
       "              DMC          DC         ISI         BUI         FWI  \n",
       "count  126.000000  126.000000  126.000000  126.000000  126.000000  \n",
       "mean    12.019048   51.742063    3.777778   15.038095    5.415873  \n",
       "std     11.215359   51.547105    3.291635   14.403732    6.305254  \n",
       "min      0.700000    6.900000    0.000000    1.100000    0.000000  \n",
       "25%      3.400000    9.475000    1.125000    4.475000    0.500000  \n",
       "50%      8.500000   32.650000    2.650000   10.700000    2.700000  \n",
       "75%     15.900000   76.525000    5.675000   21.375000    8.375000  \n",
       "max     54.200000  220.400000   17.100000   67.400000   30.200000  "
      ]
     },
     "metadata": {},
     "output_type": "display_data"
    }
   ],
   "source": [
    "import pandas as pd\n",
    "import numpy as np\n",
    "import matplotlib.pyplot as plt\n",
    "import seaborn as sns\n",
    "import plotly.express as px\n",
    "from sklearn.cluster import KMeans\n",
    "from sklearn.ensemble import RandomForestRegressor, IsolationForest\n",
    "from sklearn.model_selection import train_test_split\n",
    "from IPython.display import display, Markdown\n",
    "!pip install folium\n",
    "import folium\n",
    "from folium import plugins\n",
    "\n",
    "# Load dataset\n",
    "fire_data = pd.read_csv(\"/kaggle/input/d/surprisemhlongo/algerianforestfires/FireData.csv\") \n",
    "\n",
    "# Display glossary\n",
    "display(Markdown(\"\"\"\n",
    "## Glossary of table abbreviations:\n",
    "\n",
    "| Abbreviation | Full Name | Description | Typical Range |\n",
    "|--------------|-----------|-------------|---------------|\n",
    "| **RH** | Relative Humidity | Moisture in air (%) | 0-100 |\n",
    "| **Ws** | Wind Speed | Wind velocity (km/h) | 0-100+ |\n",
    "| **FFMC** | Fine Fuel Moisture Code | Surface litter dryness | 0-101 |\n",
    "| **DMC** | Duff Moisture Code | Shallow organic layer dryness | 0-300+ |\n",
    "| **DC** | Drought Code | Deep organic layer dryness | 0-1000+ |\n",
    "| **ISI** | Initial Spread Index | Fire spread potential | 0-56+ |\n",
    "| **BUI** | Build-Up Index | Fuel availability | 0-200+ |\n",
    "| **FWI** | Fire Weather Index | Overall fire danger | 0-100+ |\n",
    "\"\"\"))\n",
    "\n",
    "display(Markdown(\"#### Head Preview:\"))\n",
    "display(fire_data.head(10))\n",
    "\n",
    "display(Markdown(\"#### Data Summary:\"))\n",
    "display(fire_data.describe())"
   ]
  },
  {
   "cell_type": "markdown",
   "id": "065c19b2",
   "metadata": {
    "papermill": {
     "duration": 0.003586,
     "end_time": "2025-07-28T05:38:19.293237",
     "exception": false,
     "start_time": "2025-07-28T05:38:19.289651",
     "status": "completed"
    },
    "tags": []
   },
   "source": [
    "## Validation Checks/ (Data Rules)"
   ]
  },
  {
   "cell_type": "code",
   "execution_count": 2,
   "id": "572b153b",
   "metadata": {
    "execution": {
     "iopub.execute_input": "2025-07-28T05:38:19.302954Z",
     "iopub.status.busy": "2025-07-28T05:38:19.302594Z",
     "iopub.status.idle": "2025-07-28T05:38:19.336485Z",
     "shell.execute_reply": "2025-07-28T05:38:19.335255Z"
    },
    "papermill": {
     "duration": 0.040844,
     "end_time": "2025-07-28T05:38:19.338211",
     "exception": false,
     "start_time": "2025-07-28T05:38:19.297367",
     "status": "completed"
    },
    "tags": []
   },
   "outputs": [
    {
     "data": {
      "text/markdown": [
       "## Validation Report"
      ],
      "text/plain": [
       "<IPython.core.display.Markdown object>"
      ]
     },
     "metadata": {},
     "output_type": "display_data"
    },
    {
     "name": "stderr",
     "output_type": "stream",
     "text": [
      "/usr/local/lib/python3.11/dist-packages/pandas/core/computation/expressions.py:73: RuntimeWarning: invalid value encountered in greater_equal\n",
      "  return op(a, b)\n",
      "/usr/local/lib/python3.11/dist-packages/pandas/core/computation/expressions.py:73: RuntimeWarning: invalid value encountered in less_equal\n",
      "  return op(a, b)\n"
     ]
    },
    {
     "data": {
      "text/markdown": [
       "### Issues Found:"
      ],
      "text/plain": [
       "<IPython.core.display.Markdown object>"
      ]
     },
     "metadata": {},
     "output_type": "display_data"
    },
    {
     "data": {
      "text/markdown": [
       "- ❌ NULL-01: 12 NULL values in column 'Temperature'"
      ],
      "text/plain": [
       "<IPython.core.display.Markdown object>"
      ]
     },
     "metadata": {},
     "output_type": "display_data"
    },
    {
     "data": {
      "text/markdown": [
       "- ❌ NULL-01: 8 NULL values in column 'RH'"
      ],
      "text/plain": [
       "<IPython.core.display.Markdown object>"
      ]
     },
     "metadata": {},
     "output_type": "display_data"
    },
    {
     "data": {
      "text/markdown": [
       "- ❌ NULL-01: 8 NULL values in column 'Ws'"
      ],
      "text/plain": [
       "<IPython.core.display.Markdown object>"
      ]
     },
     "metadata": {},
     "output_type": "display_data"
    },
    {
     "data": {
      "text/markdown": [
       "- ❌ C-01: 12 NULL Temperatures"
      ],
      "text/plain": [
       "<IPython.core.display.Markdown object>"
      ]
     },
     "metadata": {},
     "output_type": "display_data"
    },
    {
     "data": {
      "text/markdown": [
       "- ❌ V-01: 12 RH values outside 0-100%"
      ],
      "text/plain": [
       "<IPython.core.display.Markdown object>"
      ]
     },
     "metadata": {},
     "output_type": "display_data"
    },
    {
     "data": {
      "text/markdown": [
       "- ❌ U-01: 4 duplicate FreIDs"
      ],
      "text/plain": [
       "<IPython.core.display.Markdown object>"
      ]
     },
     "metadata": {},
     "output_type": "display_data"
    },
    {
     "data": {
      "text/markdown": [
       "- ❌ B-01: 61 cases where FWI < ISI"
      ],
      "text/plain": [
       "<IPython.core.display.Markdown object>"
      ]
     },
     "metadata": {},
     "output_type": "display_data"
    }
   ],
   "source": [
    "# ===VALIDATION ===\n",
    "display(Markdown(\"## Validation Report\"))\n",
    "\n",
    "# Initialize error list\n",
    "errors = []\n",
    "\n",
    "# Check for NULL values in all columns\n",
    "for column in fire_data.columns:\n",
    "    null_count = fire_data[column].isnull().sum()\n",
    "    if null_count > 0:\n",
    "        errors.append(f\"❌ NULL-01: {null_count} NULL values in column '{column}'\")\n",
    "\n",
    "# Rule C-01: NULL Temperatures\n",
    "null_temp = fire_data['Temperature'].isnull().sum()\n",
    "if null_temp > 0:\n",
    "    errors.append(f\"❌ C-01: {null_temp} NULL Temperatures\")\n",
    "\n",
    "# Rule V-01: RH Range\n",
    "invalid_rh = fire_data[~fire_data['RH'].between(0, 100)].shape[0]\n",
    "if invalid_rh > 0:\n",
    "    errors.append(f\"❌ V-01: {invalid_rh} RH values outside 0-100%\")\n",
    "\n",
    "# Rule U-01: Duplicate FireIDs\n",
    "dup_fireid = fire_data.duplicated(\"FireID\").sum()\n",
    "if dup_fireid > 0:\n",
    "    errors.append(f\"❌ U-01: {dup_fireid} duplicate FreIDs\")\n",
    "\n",
    "# Rule B-01: FWI < ISI violations\n",
    "fwi_violations = (fire_data[\"FWI\"] < fire_data[\"ISI\"]).sum()\n",
    "if fwi_violations > 0:\n",
    "    errors.append(f\"❌ B-01: {fwi_violations} cases where FWI < ISI\")\n",
    "\n",
    "# Display results\n",
    "if errors:\n",
    "    display(Markdown(\"### Issues Found:\"))\n",
    "    for error in errors:\n",
    "        display(Markdown(f\"- {error}\"))\n",
    "else:\n",
    "    display(Markdown(\"✅ All checks passed!\"))"
   ]
  },
  {
   "cell_type": "code",
   "execution_count": 3,
   "id": "38214f7c",
   "metadata": {
    "execution": {
     "iopub.execute_input": "2025-07-28T05:38:19.349733Z",
     "iopub.status.busy": "2025-07-28T05:38:19.349362Z",
     "iopub.status.idle": "2025-07-28T05:38:19.383719Z",
     "shell.execute_reply": "2025-07-28T05:38:19.382792Z"
    },
    "papermill": {
     "duration": 0.042271,
     "end_time": "2025-07-28T05:38:19.385307",
     "exception": false,
     "start_time": "2025-07-28T05:38:19.343036",
     "status": "completed"
    },
    "tags": []
   },
   "outputs": [
    {
     "data": {
      "text/markdown": [
       "## Data Cleaning"
      ],
      "text/plain": [
       "<IPython.core.display.Markdown object>"
      ]
     },
     "metadata": {},
     "output_type": "display_data"
    },
    {
     "data": {
      "text/markdown": [
       "✅ NULL-01: Filled 12 NULL values in 'Temperature' with median"
      ],
      "text/plain": [
       "<IPython.core.display.Markdown object>"
      ]
     },
     "metadata": {},
     "output_type": "display_data"
    },
    {
     "data": {
      "text/markdown": [
       "✅ NULL-01: Filled 8 NULL values in 'RH' with median"
      ],
      "text/plain": [
       "<IPython.core.display.Markdown object>"
      ]
     },
     "metadata": {},
     "output_type": "display_data"
    },
    {
     "data": {
      "text/markdown": [
       "✅ NULL-01: Filled 8 NULL values in 'Ws' with median"
      ],
      "text/plain": [
       "<IPython.core.display.Markdown object>"
      ]
     },
     "metadata": {},
     "output_type": "display_data"
    },
    {
     "data": {
      "text/markdown": [
       "✅ C-01: Filled 12 NULL temperatures with median"
      ],
      "text/plain": [
       "<IPython.core.display.Markdown object>"
      ]
     },
     "metadata": {},
     "output_type": "display_data"
    },
    {
     "data": {
      "text/markdown": [
       "✅ V-01: Capped 12 RH values to 0-100% range"
      ],
      "text/plain": [
       "<IPython.core.display.Markdown object>"
      ]
     },
     "metadata": {},
     "output_type": "display_data"
    },
    {
     "data": {
      "text/markdown": [
       "✅ U-01: Removed 4 duplicate FireIDs"
      ],
      "text/plain": [
       "<IPython.core.display.Markdown object>"
      ]
     },
     "metadata": {},
     "output_type": "display_data"
    },
    {
     "data": {
      "text/markdown": [
       "✅ B-01: Corrected 61 FWI < ISI violations"
      ],
      "text/plain": [
       "<IPython.core.display.Markdown object>"
      ]
     },
     "metadata": {},
     "output_type": "display_data"
    }
   ],
   "source": [
    "# === CLEANING ===\n",
    "display(Markdown(\"## Data Cleaning\"))\n",
    "\n",
    "clean_df = fire_data.copy()\n",
    "\n",
    "# Fill NULL values in all columns with appropriate methods\n",
    "for column in clean_df.columns:\n",
    "    null_count = clean_df[column].isnull().sum()\n",
    "    if null_count > 0:\n",
    "        if clean_df[column].dtype in ['int64', 'float64']:\n",
    "            # For numeric columns, fill with median\n",
    "            clean_df[column] = clean_df[column].fillna(clean_df[column].median())\n",
    "            display(Markdown(f\"✅ NULL-01: Filled {null_count} NULL values in '{column}' with median\"))\n",
    "        else:\n",
    "            # For non-numeric columns, fill with mode\n",
    "            mode_value = clean_df[column].mode()[0]\n",
    "            clean_df[column] = clean_df[column].fillna(mode_value)\n",
    "            display(Markdown(f\"✅ NULL-01: Filled {null_count} NULL values in '{column}' with mode\"))\n",
    "\n",
    "# Fix NULL Temperatures (C-01)\n",
    "if null_temp > 0:\n",
    "    clean_df[\"Temperature\"] = clean_df[\"Temperature\"].fillna(clean_df[\"Temperature\"].median())\n",
    "    display(Markdown(f\"✅ C-01: Filled {null_temp} NULL temperatures with median\"))\n",
    "\n",
    "# Fix invalid RH (V-01)\n",
    "if invalid_rh > 0:\n",
    "    clean_df[\"RH\"] = clean_df[\"RH\"].clip(0, 100)\n",
    "    display(Markdown(f\"✅ V-01: Capped {invalid_rh} RH values to 0-100% range\"))\n",
    "\n",
    "# Fix duplicate FireIDs (U-01)\n",
    "if dup_fireid > 0:\n",
    "    clean_df = clean_df.drop_duplicates(\"FireID\", keep=\"first\")\n",
    "    display(Markdown(f\"✅ U-01: Removed {dup_fireid} duplicate FireIDs\"))\n",
    "\n",
    "# Fix FWI < ISI (B-01)\n",
    "if fwi_violations > 0:\n",
    "    mask = clean_df[\"FWI\"] < clean_df[\"ISI\"]\n",
    "    clean_df.loc[mask, \"FWI\"] = clean_df[\"ISI\"] * 1.2  # Add 20% buffer\n",
    "    display(Markdown(f\"✅ B-01: Corrected {fwi_violations} FWI < ISI violations\"))"
   ]
  },
  {
   "cell_type": "code",
   "execution_count": 4,
   "id": "e5ccd982",
   "metadata": {
    "execution": {
     "iopub.execute_input": "2025-07-28T05:38:19.397322Z",
     "iopub.status.busy": "2025-07-28T05:38:19.397008Z",
     "iopub.status.idle": "2025-07-28T05:38:19.409945Z",
     "shell.execute_reply": "2025-07-28T05:38:19.408918Z"
    },
    "papermill": {
     "duration": 0.02078,
     "end_time": "2025-07-28T05:38:19.411577",
     "exception": false,
     "start_time": "2025-07-28T05:38:19.390797",
     "status": "completed"
    },
    "tags": []
   },
   "outputs": [
    {
     "data": {
      "text/markdown": [
       "✅ Saved cleaned data to `FireData_Cleaned.csv`"
      ],
      "text/plain": [
       "<IPython.core.display.Markdown object>"
      ]
     },
     "metadata": {},
     "output_type": "display_data"
    }
   ],
   "source": [
    "# Save cleaned data \n",
    "clean_df.to_csv(\"/kaggle/working/FireData_Cleaned.csv\", index=False)\n",
    "display(Markdown(\"✅ Saved cleaned data to `FireData_Cleaned.csv`\"))"
   ]
  },
  {
   "cell_type": "code",
   "execution_count": 5,
   "id": "25044d0e",
   "metadata": {
    "execution": {
     "iopub.execute_input": "2025-07-28T05:38:19.424239Z",
     "iopub.status.busy": "2025-07-28T05:38:19.423947Z",
     "iopub.status.idle": "2025-07-28T05:38:19.454803Z",
     "shell.execute_reply": "2025-07-28T05:38:19.453642Z"
    },
    "papermill": {
     "duration": 0.03933,
     "end_time": "2025-07-28T05:38:19.456260",
     "exception": false,
     "start_time": "2025-07-28T05:38:19.416930",
     "status": "completed"
    },
    "tags": []
   },
   "outputs": [
    {
     "data": {
      "text/markdown": [
       "## Validation Report"
      ],
      "text/plain": [
       "<IPython.core.display.Markdown object>"
      ]
     },
     "metadata": {},
     "output_type": "display_data"
    },
    {
     "data": {
      "text/html": [
       "<div>\n",
       "<style scoped>\n",
       "    .dataframe tbody tr th:only-of-type {\n",
       "        vertical-align: middle;\n",
       "    }\n",
       "\n",
       "    .dataframe tbody tr th {\n",
       "        vertical-align: top;\n",
       "    }\n",
       "\n",
       "    .dataframe thead th {\n",
       "        text-align: right;\n",
       "    }\n",
       "</style>\n",
       "<table border=\"1\" class=\"dataframe\">\n",
       "  <thead>\n",
       "    <tr style=\"text-align: right;\">\n",
       "      <th></th>\n",
       "      <th>Temperature</th>\n",
       "      <th>RH</th>\n",
       "      <th>Ws</th>\n",
       "      <th>Rain</th>\n",
       "      <th>FFMC</th>\n",
       "      <th>DMC</th>\n",
       "      <th>DC</th>\n",
       "      <th>ISI</th>\n",
       "      <th>BUI</th>\n",
       "      <th>FWI</th>\n",
       "      <th>Classes</th>\n",
       "      <th>FireID</th>\n",
       "      <th>FireDate</th>\n",
       "    </tr>\n",
       "  </thead>\n",
       "  <tbody>\n",
       "    <tr>\n",
       "      <th>0</th>\n",
       "      <td>29.0</td>\n",
       "      <td>57.0</td>\n",
       "      <td>18.0</td>\n",
       "      <td>0.0</td>\n",
       "      <td>65.7</td>\n",
       "      <td>3.4</td>\n",
       "      <td>7.6</td>\n",
       "      <td>1.3</td>\n",
       "      <td>3.4</td>\n",
       "      <td>1.56</td>\n",
       "      <td>not fire</td>\n",
       "      <td>FIRE-2012-06-01-001</td>\n",
       "      <td>01/06/2012</td>\n",
       "    </tr>\n",
       "    <tr>\n",
       "      <th>1</th>\n",
       "      <td>31.0</td>\n",
       "      <td>61.0</td>\n",
       "      <td>13.0</td>\n",
       "      <td>1.3</td>\n",
       "      <td>64.4</td>\n",
       "      <td>4.1</td>\n",
       "      <td>7.6</td>\n",
       "      <td>1.0</td>\n",
       "      <td>3.9</td>\n",
       "      <td>1.20</td>\n",
       "      <td>not fire</td>\n",
       "      <td>FIRE-2012-06-02-001</td>\n",
       "      <td>02/06/2012</td>\n",
       "    </tr>\n",
       "    <tr>\n",
       "      <th>2</th>\n",
       "      <td>26.0</td>\n",
       "      <td>68.0</td>\n",
       "      <td>16.0</td>\n",
       "      <td>13.1</td>\n",
       "      <td>47.1</td>\n",
       "      <td>2.5</td>\n",
       "      <td>7.1</td>\n",
       "      <td>0.3</td>\n",
       "      <td>2.7</td>\n",
       "      <td>0.36</td>\n",
       "      <td>not fire</td>\n",
       "      <td>FIRE-2012-06-03-001</td>\n",
       "      <td>03/06/2012</td>\n",
       "    </tr>\n",
       "    <tr>\n",
       "      <th>3</th>\n",
       "      <td>25.0</td>\n",
       "      <td>89.0</td>\n",
       "      <td>13.0</td>\n",
       "      <td>2.5</td>\n",
       "      <td>28.6</td>\n",
       "      <td>1.3</td>\n",
       "      <td>6.9</td>\n",
       "      <td>0.0</td>\n",
       "      <td>1.7</td>\n",
       "      <td>0.00</td>\n",
       "      <td>not fire</td>\n",
       "      <td>FIRE-2012-06-04-001</td>\n",
       "      <td>04/06/2012</td>\n",
       "    </tr>\n",
       "    <tr>\n",
       "      <th>4</th>\n",
       "      <td>31.0</td>\n",
       "      <td>77.0</td>\n",
       "      <td>16.0</td>\n",
       "      <td>0.0</td>\n",
       "      <td>64.8</td>\n",
       "      <td>3.0</td>\n",
       "      <td>14.2</td>\n",
       "      <td>1.2</td>\n",
       "      <td>3.9</td>\n",
       "      <td>1.44</td>\n",
       "      <td>not fire</td>\n",
       "      <td>FIRE-2012-06-05-001</td>\n",
       "      <td>05/06/2012</td>\n",
       "    </tr>\n",
       "    <tr>\n",
       "      <th>...</th>\n",
       "      <td>...</td>\n",
       "      <td>...</td>\n",
       "      <td>...</td>\n",
       "      <td>...</td>\n",
       "      <td>...</td>\n",
       "      <td>...</td>\n",
       "      <td>...</td>\n",
       "      <td>...</td>\n",
       "      <td>...</td>\n",
       "      <td>...</td>\n",
       "      <td>...</td>\n",
       "      <td>...</td>\n",
       "      <td>...</td>\n",
       "    </tr>\n",
       "    <tr>\n",
       "      <th>117</th>\n",
       "      <td>31.0</td>\n",
       "      <td>54.0</td>\n",
       "      <td>11.0</td>\n",
       "      <td>0.0</td>\n",
       "      <td>82.0</td>\n",
       "      <td>6.0</td>\n",
       "      <td>16.3</td>\n",
       "      <td>2.5</td>\n",
       "      <td>6.2</td>\n",
       "      <td>3.00</td>\n",
       "      <td>not fire</td>\n",
       "      <td>FIRE-2012-09-26-001</td>\n",
       "      <td>26/09/2012</td>\n",
       "    </tr>\n",
       "    <tr>\n",
       "      <th>118</th>\n",
       "      <td>31.0</td>\n",
       "      <td>66.0</td>\n",
       "      <td>11.0</td>\n",
       "      <td>0.0</td>\n",
       "      <td>85.7</td>\n",
       "      <td>8.3</td>\n",
       "      <td>24.9</td>\n",
       "      <td>4.0</td>\n",
       "      <td>9.0</td>\n",
       "      <td>4.10</td>\n",
       "      <td>fire</td>\n",
       "      <td>FIRE-2012-09-27-001</td>\n",
       "      <td>27/09/2012</td>\n",
       "    </tr>\n",
       "    <tr>\n",
       "      <th>119</th>\n",
       "      <td>32.0</td>\n",
       "      <td>47.0</td>\n",
       "      <td>14.0</td>\n",
       "      <td>0.7</td>\n",
       "      <td>77.5</td>\n",
       "      <td>7.1</td>\n",
       "      <td>8.8</td>\n",
       "      <td>1.8</td>\n",
       "      <td>6.8</td>\n",
       "      <td>2.16</td>\n",
       "      <td>not fire</td>\n",
       "      <td>FIRE-2012-09-28-001</td>\n",
       "      <td>28/09/2012</td>\n",
       "    </tr>\n",
       "    <tr>\n",
       "      <th>120</th>\n",
       "      <td>26.0</td>\n",
       "      <td>80.0</td>\n",
       "      <td>16.0</td>\n",
       "      <td>1.8</td>\n",
       "      <td>47.4</td>\n",
       "      <td>2.9</td>\n",
       "      <td>7.7</td>\n",
       "      <td>0.3</td>\n",
       "      <td>3.0</td>\n",
       "      <td>0.36</td>\n",
       "      <td>not fire</td>\n",
       "      <td>FIRE-2012-09-29-001</td>\n",
       "      <td>29/09/2012</td>\n",
       "    </tr>\n",
       "    <tr>\n",
       "      <th>121</th>\n",
       "      <td>25.0</td>\n",
       "      <td>78.0</td>\n",
       "      <td>14.0</td>\n",
       "      <td>1.4</td>\n",
       "      <td>45.0</td>\n",
       "      <td>1.9</td>\n",
       "      <td>7.5</td>\n",
       "      <td>0.2</td>\n",
       "      <td>2.4</td>\n",
       "      <td>0.24</td>\n",
       "      <td>not fire</td>\n",
       "      <td>FIRE-2012-09-30-001</td>\n",
       "      <td>30/09/2012</td>\n",
       "    </tr>\n",
       "  </tbody>\n",
       "</table>\n",
       "<p>122 rows × 13 columns</p>\n",
       "</div>"
      ],
      "text/plain": [
       "     Temperature    RH    Ws  Rain  FFMC  DMC    DC  ISI  BUI   FWI  \\\n",
       "0           29.0  57.0  18.0   0.0  65.7  3.4   7.6  1.3  3.4  1.56   \n",
       "1           31.0  61.0  13.0   1.3  64.4  4.1   7.6  1.0  3.9  1.20   \n",
       "2           26.0  68.0  16.0  13.1  47.1  2.5   7.1  0.3  2.7  0.36   \n",
       "3           25.0  89.0  13.0   2.5  28.6  1.3   6.9  0.0  1.7  0.00   \n",
       "4           31.0  77.0  16.0   0.0  64.8  3.0  14.2  1.2  3.9  1.44   \n",
       "..           ...   ...   ...   ...   ...  ...   ...  ...  ...   ...   \n",
       "117         31.0  54.0  11.0   0.0  82.0  6.0  16.3  2.5  6.2  3.00   \n",
       "118         31.0  66.0  11.0   0.0  85.7  8.3  24.9  4.0  9.0  4.10   \n",
       "119         32.0  47.0  14.0   0.7  77.5  7.1   8.8  1.8  6.8  2.16   \n",
       "120         26.0  80.0  16.0   1.8  47.4  2.9   7.7  0.3  3.0  0.36   \n",
       "121         25.0  78.0  14.0   1.4  45.0  1.9   7.5  0.2  2.4  0.24   \n",
       "\n",
       "         Classes               FireID    FireDate  \n",
       "0    not fire     FIRE-2012-06-01-001  01/06/2012  \n",
       "1    not fire     FIRE-2012-06-02-001  02/06/2012  \n",
       "2    not fire     FIRE-2012-06-03-001  03/06/2012  \n",
       "3    not fire     FIRE-2012-06-04-001  04/06/2012  \n",
       "4    not fire     FIRE-2012-06-05-001  05/06/2012  \n",
       "..           ...                  ...         ...  \n",
       "117  not fire     FIRE-2012-09-26-001  26/09/2012  \n",
       "118      fire     FIRE-2012-09-27-001  27/09/2012  \n",
       "119  not fire     FIRE-2012-09-28-001  28/09/2012  \n",
       "120  not fire     FIRE-2012-09-29-001  29/09/2012  \n",
       "121  not fire     FIRE-2012-09-30-001  30/09/2012  \n",
       "\n",
       "[122 rows x 13 columns]"
      ]
     },
     "metadata": {},
     "output_type": "display_data"
    },
    {
     "data": {
      "text/markdown": [
       "✅ All checks passed!"
      ],
      "text/plain": [
       "<IPython.core.display.Markdown object>"
      ]
     },
     "metadata": {},
     "output_type": "display_data"
    }
   ],
   "source": [
    "# === SAME VALIDATION ON CLEANED DATA ===\n",
    "display(Markdown(\"## Validation Report\"))\n",
    "# Load dataset\n",
    "FireData_Cleaned = pd.read_csv(\"/kaggle/working/FireData_Cleaned.csv\")\n",
    "display(FireData_Cleaned)\n",
    "# Initialize error list\n",
    "errors = []\n",
    "\n",
    "# Check for NULL values in all columns\n",
    "for column in FireData_Cleaned.columns:\n",
    "    null_count = FireData_Cleaned[column].isnull().sum()\n",
    "    if null_count > 0:\n",
    "        errors.append(f\"❌ NULL-01: {null_count} NULL values in column '{column}'\")\n",
    "\n",
    "# Rule C-01: NULL Temperatures\n",
    "null_temp = FireData_Cleaned['Temperature'].isnull().sum()\n",
    "if null_temp > 0:\n",
    "    errors.append(f\"❌ C-01: {null_temp} NULL Temperatures\")\n",
    "\n",
    "# Rule V-01: RH Range\n",
    "invalid_rh = FireData_Cleaned[~FireData_Cleaned['RH'].between(0, 100)].shape[0]\n",
    "if invalid_rh > 0:\n",
    "    errors.append(f\"❌ V-01: {invalid_rh} RH values outside 0-100%\")\n",
    "\n",
    "# Rule U-01: Duplicate FireIDs\n",
    "dup_fireid = FireData_Cleaned.duplicated(\"FireID\").sum()\n",
    "if dup_fireid > 0:\n",
    "    errors.append(f\"❌ U-01: {dup_fireid} duplicate FreIDs\")\n",
    "\n",
    "# Rule B-01: FWI < ISI violations\n",
    "fwi_violations = (FireData_Cleaned[\"FWI\"] < FireData_Cleaned[\"ISI\"]).sum()\n",
    "if fwi_violations > 0:\n",
    "    errors.append(f\"❌ B-01: {fwi_violations} cases where FWI < ISI\")\n",
    "\n",
    "# Display results\n",
    "if errors:\n",
    "    display(Markdown(\"### Issues Found:\"))\n",
    "    for error in errors:\n",
    "        display(Markdown(f\"- {error}\"))\n",
    "else:\n",
    "    display(Markdown(\"✅ All checks passed!\"))"
   ]
  },
  {
   "cell_type": "markdown",
   "id": "aa08e549",
   "metadata": {
    "papermill": {
     "duration": 0.006286,
     "end_time": "2025-07-28T05:38:19.468276",
     "exception": false,
     "start_time": "2025-07-28T05:38:19.461990",
     "status": "completed"
    },
    "tags": []
   },
   "source": [
    "## Reload & Analyze"
   ]
  },
  {
   "cell_type": "code",
   "execution_count": 6,
   "id": "7e6f9a49",
   "metadata": {
    "execution": {
     "iopub.execute_input": "2025-07-28T05:38:19.481312Z",
     "iopub.status.busy": "2025-07-28T05:38:19.481018Z",
     "iopub.status.idle": "2025-07-28T05:38:20.786754Z",
     "shell.execute_reply": "2025-07-28T05:38:20.785770Z"
    },
    "papermill": {
     "duration": 1.31461,
     "end_time": "2025-07-28T05:38:20.788485",
     "exception": false,
     "start_time": "2025-07-28T05:38:19.473875",
     "status": "completed"
    },
    "tags": []
   },
   "outputs": [
    {
     "name": "stdout",
     "output_type": "stream",
     "text": [
      "Data loaded successfully! Shape: (122, 13)\n",
      "Columns: ['Temperature', 'RH', 'Ws', 'Rain', 'FFMC', 'DMC', 'DC', 'ISI', 'BUI', 'FWI', 'Classes', 'FireID', 'FireDate']\n",
      "\n",
      "Top Performers:\n"
     ]
    },
    {
     "data": {
      "text/html": [
       "<div>\n",
       "<style scoped>\n",
       "    .dataframe tbody tr th:only-of-type {\n",
       "        vertical-align: middle;\n",
       "    }\n",
       "\n",
       "    .dataframe tbody tr th {\n",
       "        vertical-align: top;\n",
       "    }\n",
       "\n",
       "    .dataframe thead th {\n",
       "        text-align: right;\n",
       "    }\n",
       "</style>\n",
       "<table border=\"1\" class=\"dataframe\">\n",
       "  <thead>\n",
       "    <tr style=\"text-align: right;\">\n",
       "      <th></th>\n",
       "      <th>Features</th>\n",
       "      <th>Model</th>\n",
       "      <th>R²</th>\n",
       "    </tr>\n",
       "  </thead>\n",
       "  <tbody>\n",
       "    <tr>\n",
       "      <th>4</th>\n",
       "      <td>Fire Indices</td>\n",
       "      <td>Ridge Regression</td>\n",
       "      <td>0.971158</td>\n",
       "    </tr>\n",
       "    <tr>\n",
       "      <th>5</th>\n",
       "      <td>Fire Indices</td>\n",
       "      <td>Gradient Boosting</td>\n",
       "      <td>0.931597</td>\n",
       "    </tr>\n",
       "    <tr>\n",
       "      <th>13</th>\n",
       "      <td>Experimental</td>\n",
       "      <td>Gradient Boosting</td>\n",
       "      <td>0.869014</td>\n",
       "    </tr>\n",
       "    <tr>\n",
       "      <th>6</th>\n",
       "      <td>Fire Indices</td>\n",
       "      <td>Decision Tree</td>\n",
       "      <td>0.850779</td>\n",
       "    </tr>\n",
       "    <tr>\n",
       "      <th>14</th>\n",
       "      <td>Experimental</td>\n",
       "      <td>Decision Tree</td>\n",
       "      <td>0.769407</td>\n",
       "    </tr>\n",
       "    <tr>\n",
       "      <th>7</th>\n",
       "      <td>Fire Indices</td>\n",
       "      <td>KNN</td>\n",
       "      <td>0.750717</td>\n",
       "    </tr>\n",
       "    <tr>\n",
       "      <th>12</th>\n",
       "      <td>Experimental</td>\n",
       "      <td>Ridge Regression</td>\n",
       "      <td>0.700257</td>\n",
       "    </tr>\n",
       "    <tr>\n",
       "      <th>8</th>\n",
       "      <td>Hybrid</td>\n",
       "      <td>Ridge Regression</td>\n",
       "      <td>0.678135</td>\n",
       "    </tr>\n",
       "    <tr>\n",
       "      <th>9</th>\n",
       "      <td>Hybrid</td>\n",
       "      <td>Gradient Boosting</td>\n",
       "      <td>0.673877</td>\n",
       "    </tr>\n",
       "    <tr>\n",
       "      <th>15</th>\n",
       "      <td>Experimental</td>\n",
       "      <td>KNN</td>\n",
       "      <td>0.656198</td>\n",
       "    </tr>\n",
       "  </tbody>\n",
       "</table>\n",
       "</div>"
      ],
      "text/plain": [
       "        Features              Model        R²\n",
       "4   Fire Indices   Ridge Regression  0.971158\n",
       "5   Fire Indices  Gradient Boosting  0.931597\n",
       "13  Experimental  Gradient Boosting  0.869014\n",
       "6   Fire Indices      Decision Tree  0.850779\n",
       "14  Experimental      Decision Tree  0.769407\n",
       "7   Fire Indices                KNN  0.750717\n",
       "12  Experimental   Ridge Regression  0.700257\n",
       "8         Hybrid   Ridge Regression  0.678135\n",
       "9         Hybrid  Gradient Boosting  0.673877\n",
       "15  Experimental                KNN  0.656198"
      ]
     },
     "metadata": {},
     "output_type": "display_data"
    },
    {
     "data": {
      "image/png": "[encoded data removed]",
      "text/plain": [
       "<Figure size 1000x600 with 1 Axes>"
      ]
     },
     "metadata": {},
     "output_type": "display_data"
    },
    {
     "name": "stdout",
     "output_type": "stream",
     "text": [
      "\n",
      " Key Insights:\n",
      "1. Best Combo: Ridge Regression + Fire Indices (R²=0.971)\n",
      "2. Worst Combo: Decision Tree + Basic Weather (R²=0.114)\n",
      "4. Ridge Regression handled correlated fire indices best\n",
      "Fire indices (FFMC/DMC/DC/BUI)\n"
     ]
    }
   ],
   "source": [
    "import pandas as pd\n",
    "import numpy as np\n",
    "from sklearn.ensemble import GradientBoostingRegressor\n",
    "from sklearn.linear_model import Ridge\n",
    "from sklearn.neighbors import KNeighborsRegressor\n",
    "from sklearn.tree import DecisionTreeRegressor\n",
    "from sklearn.model_selection import cross_val_score\n",
    "import matplotlib.pyplot as plt\n",
    "import seaborn as sns\n",
    "\n",
    "# Load cleaned dataset\n",
    "FireData_Cleaned = pd.read_csv(\"/kaggle/working/FireData_Cleaned.csv\")\n",
    "\n",
    "# Verify load\n",
    "print(\"Data loaded successfully! Shape:\", FireData_Cleaned.shape)\n",
    "print(\"Columns:\", FireData_Cleaned.columns.tolist())\n",
    "\n",
    "# ===== DEFINE FEATURE GROUPS =====\n",
    "feature_sets = {\n",
    "    'Basic Weather': ['Temperature', 'RH', 'Ws', 'Rain'],\n",
    "    'Fire Indices': ['FFMC', 'DMC', 'DC', 'ISI', 'BUI'],\n",
    "    'Hybrid': ['Temperature', 'DMC', 'DC', 'Ws'],\n",
    "    'Experimental': ['FFMC', 'RH', 'DC', 'Rain']\n",
    "}\n",
    "\n",
    "# ===== MODEL TESTING =====\n",
    "models = [\n",
    "    ('Ridge Regression', Ridge()),\n",
    "    ('Gradient Boosting', GradientBoostingRegressor(random_state=42)),\n",
    "    ('Decision Tree', DecisionTreeRegressor(max_depth=4)),\n",
    "    ('KNN', KNeighborsRegressor())\n",
    "]\n",
    "\n",
    "results = []\n",
    "for feature_name, features in feature_sets.items():\n",
    "    X = FireData_Cleaned[features]\n",
    "    y = FireData_Cleaned['FWI']\n",
    "    \n",
    "    for model_name, model in models:\n",
    "        r2 = np.mean(cross_val_score(model, X, y, cv=3, scoring='r2'))\n",
    "        results.append({\n",
    "            'Features': feature_name,\n",
    "            'Model': model_name,\n",
    "            'R²': r2\n",
    "        })\n",
    "\n",
    "# ===== 4. RESULTS =====\n",
    "results_df = pd.DataFrame(results)\n",
    "print(\"\\nTop Performers:\")\n",
    "display(results_df.sort_values('R²', ascending=False).head(10))\n",
    "\n",
    "# ===== 5. VISUALIZATION =====\n",
    "plt.figure(figsize=(10,6))\n",
    "sns.barplot(data=results_df, x='R²', y='Features', hue='Model')\n",
    "plt.title(\"Model Performance by Feature Group\")\n",
    "plt.legend(bbox_to_anchor=(1.05, 1))\n",
    "plt.tight_layout()\n",
    "plt.show()\n",
    "\n",
    "# ===== 6. KEY FINDINGS =====\n",
    "print(\"\\n Key Insights:\")\n",
    "print(f\"1. Best Combo: {results_df.loc[results_df['R²'].idxmax(), 'Model']} + {results_df.loc[results_df['R²'].idxmax(), 'Features']} (R²={results_df['R²'].max():.3f})\")\n",
    "print(f\"2. Worst Combo: {results_df.loc[results_df['R²'].idxmin(), 'Model']} + {results_df.loc[results_df['R²'].idxmin(), 'Features']} (R²={results_df['R²'].min():.3f})\")\n",
    "print(\"4. Ridge Regression handled correlated fire indices best\")\n",
    "print(\"Fire indices (FFMC/DMC/DC/BUI)\")"
   ]
  }
 ],
 "metadata": {
  "kaggle": {
   "accelerator": "none",
   "dataSources": [
    {
     "datasetId": 7946273,
     "sourceId": 12581839,
     "sourceType": "datasetVersion"
    },
    {
     "datasetId": 7947962,
     "sourceId": 12584304,
     "sourceType": "datasetVersion"
    },
    {
     "datasetId": 7948946,
     "sourceId": 12585730,
     "sourceType": "datasetVersion"
    }
   ],
   "dockerImageVersionId": 31089,
   "isGpuEnabled": false,
   "isInternetEnabled": true,
   "language": "python",
   "sourceType": "notebook"
  },
  "kernelspec": {
   "display_name": "Python 3",
   "language": "python",
   "name": "python3"
  },
  "language_info": {
   "codemirror_mode": {
    "name": "ipython",
    "version": 3
   },
   "file_extension": ".py",
   "mimetype": "text/x-python",
   "name": "python",
   "nbconvert_exporter": "python",
   "pygments_lexer": "ipython3",
   "version": "3.11.13"
  },
  "papermill": {
   "default_parameters": {},
   "duration": 20.700611,
   "end_time": "2025-07-28T05:38:21.718269",
   "environment_variables": {},
   "exception": null,
   "input_path": "__notebook__.ipynb",
   "output_path": "__notebook__.ipynb",
   "parameters": {},
   "start_time": "2025-07-28T05:38:01.017658",
   "version": "2.6.0"
  }
 },
 "nbformat": 4,
 "nbformat_minor": 5
}
